{
 "cells": [
  {
   "cell_type": "markdown",
   "metadata": {},
   "source": [
    "## Definitions"
   ]
  },
  {
   "cell_type": "code",
   "execution_count": null,
   "metadata": {
    "collapsed": true
   },
   "outputs": [],
   "source": [
    "YEAR_SHIFT = 364 #number of days in a year, use multiple of 7 to be able to capture week behavior\n",
    "PERIOD = 49 #number of days for median comparison\n",
    "PREDICT_PERIOD = 75 #number of days which will be predicted\n",
    "\n",
    "#evaluation function\n",
    "def smape(x, y):\n",
    "    if x == y:\n",
    "        return 0\n",
    "    else:\n",
    "        return np.abs(x-y)/(x+y)\n",
    "    \n",
    "#median function ignoring nans\n",
    "def safe_median(s):\n",
    "    return np.median([x for x in s if ~np.isnan(x)])"
   ]
  },
  {
   "cell_type": "markdown",
   "metadata": {},
   "source": [
    "## Prepare training data"
   ]
  },
  {
   "cell_type": "code",
   "execution_count": null,
   "metadata": {
    "collapsed": false
   },
   "outputs": [],
   "source": [
    "import pandas as pd\n",
    "import numpy as np\n",
    "\n",
    "train = pd.read_csv(\"input/train_2.csv\")\n",
    "train = pd.melt(train[list(train.columns[-(YEAR_SHIFT + 2*PERIOD):])+['Page']], id_vars='Page', var_name='date', value_name='Visits')\n",
    "train['date'] = train['date'].astype('datetime64[ns]')\n",
    "\n",
    "LAST_TRAIN_DAY = train['date'].max()\n",
    "\n",
    "train = train.groupby(['Page'])[\"Visits\"].apply(lambda x: list(x))"
   ]
  },
  {
   "cell_type": "markdown",
   "metadata": {},
   "source": [
    "## Make the predictions"
   ]
  },
  {
   "cell_type": "code",
   "execution_count": null,
   "metadata": {
    "collapsed": false
   },
   "outputs": [],
   "source": [
    "pred_dict = {}\n",
    "\n",
    "count = 0\n",
    "scount = 0\n",
    "\n",
    "for page, row in zip(train.index, train):\n",
    "    last_month = np.array(row[-PERIOD:])\n",
    "    slast_month = np.array(row[-2*PERIOD:-PERIOD])\n",
    "    prev_last_month = np.array(row[PERIOD:2*PERIOD])\n",
    "    prev_slast_month = np.array(row[:PERIOD])\n",
    "    \n",
    "    use_last_year = False\n",
    "    if ~np.isnan(row[0]):\n",
    "        #calculate yearly prediction error\n",
    "        year_increase = np.median(slast_month)/np.median(prev_slast_month)\n",
    "        year_error = np.sum(list(map(lambda x: smape(x[0], x[1]), zip(last_month, prev_last_month * year_increase))))\n",
    "        \n",
    "        #calculate monthly prediction error\n",
    "        smedian = np.median(slast_month)\n",
    "        month_error = np.sum(list(map(lambda x: smape(x, smedian), last_month)))\n",
    "        \n",
    "        #check if yearly prediction is better than median prediction in the previous period\n",
    "        error_diff = (month_error - year_error)/PERIOD\n",
    "        if error_diff > 0.1:\n",
    "            scount += 1\n",
    "            use_last_year = True\n",
    "    \n",
    "    if use_last_year:\n",
    "        last_year = np.array(row[2*PERIOD:2*PERIOD+PREDICT_PERIOD])\n",
    "        preds = last_year * year_increase #consider yearly increase while using the last years visits\n",
    "    else:\n",
    "        preds = [0]*PREDICT_PERIOD\n",
    "        windows = np.array([2, 3, 4, 7, 11, 18, 29, 47])*7 #kind of fibonacci\n",
    "        medians = np.zeros((len(windows), 7))\n",
    "        for i in range(7):\n",
    "            for k in range(len(windows)):\n",
    "                array = np.array(row[-windows[k]:]).reshape(-1, 7)\n",
    "                # use 3-day window. for example, Friday: [Thursday, Friday, Saturday]\n",
    "                s = np.hstack([array[:, (i-1)%7], array[:, i], array[:, (i+1)%7]]).reshape(-1)\n",
    "                medians[k, i] = safe_median(s)\n",
    "        for i in range(PREDICT_PERIOD):\n",
    "            preds[i] = safe_median(medians[:, i%7])\n",
    "                \n",
    "    pred_dict[page] = preds\n",
    "    \n",
    "    count += 1        \n",
    "    if count % 1000 == 0:\n",
    "        print(count, scount)\n",
    "\n",
    "del train\n",
    "print(\"Yearly prediction is done on the percentage:\", scount/count)"
   ]
  },
  {
   "cell_type": "markdown",
   "metadata": {},
   "source": [
    "## Prepare the submission"
   ]
  },
  {
   "cell_type": "code",
   "execution_count": null,
   "metadata": {
    "collapsed": false
   },
   "outputs": [],
   "source": [
    "test = pd.read_csv(\"input/key_2.csv\")\n",
    "test['date'] = test.Page.apply(lambda a: a[-10:])\n",
    "test['Page'] = test.Page.apply(lambda a: a[:-11])\n",
    "test['date'] = test['date'].astype('datetime64[ns]')\n",
    "\n",
    "test[\"date\"] = test[\"date\"].apply(lambda x: int((x - LAST_TRAIN_DAY).days) - 1)\n",
    "\n",
    "def func(row):\n",
    "    return pred_dict[row[\"Page\"]][row[\"date\"]]\n",
    "\n",
    "test[\"Visits\"] = test.apply(func, axis=1)\n",
    "\n",
    "test.loc[test.Visits.isnull(), 'Visits'] = 0\n",
    "test['Visits'] = test['Visits'].values + test['Visits'].values*0.03 # overestimating is usually better for smape\n",
    "test.Visits = test.Visits.round(4)\n",
    "test[['Id','Visits']].to_csv('submission.csv', index=False)"
   ]
  }
 ],
 "metadata": {
  "anaconda-cloud": {},
  "kernelspec": {
   "display_name": "Python 3",
   "language": "python",
   "name": "python3"
  },
  "language_info": {
   "codemirror_mode": {
    "name": "ipython",
    "version": 3.0
   },
   "file_extension": ".py",
   "mimetype": "text/x-python",
   "name": "python",
   "nbconvert_exporter": "python",
   "pygments_lexer": "ipython3",
   "version": "3.5.2"
  }
 },
 "nbformat": 4,
 "nbformat_minor": 0
}